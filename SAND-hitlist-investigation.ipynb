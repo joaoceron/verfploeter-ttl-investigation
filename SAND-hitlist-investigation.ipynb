{
 "cells": [
  {
   "cell_type": "code",
   "execution_count": 2,
   "metadata": {},
   "outputs": [],
   "source": [
    "import pandas as pd\n",
    "import pandas as pd\n",
    "import numpy as np\n",
    "import matplotlib.pyplot as plt\n",
    "import seaborn as sns\n",
    "from datetime import datetime\n",
    "import gzip\n",
    "import os\n",
    "import fnmatch\n",
    "from os.path import isfile, join\n",
    "import IP2Location\n",
    "import ipaddress\n",
    "import matplotlib.dates as mdates\n",
    "%matplotlib inline"
   ]
  },
  {
   "cell_type": "code",
   "execution_count": 3,
   "metadata": {},
   "outputs": [],
   "source": [
    "dataset_dir = \"data/\"\n",
    "dataset_path = os.path.join(os.getcwd(), dataset_dir)  # Specify the full path"
   ]
  },
  {
   "cell_type": "markdown",
   "metadata": {},
   "source": [
    "# 1. read hitlist"
   ]
  },
  {
   "cell_type": "code",
   "execution_count": 4,
   "metadata": {},
   "outputs": [],
   "source": [
    "dataset_file=\"./internet_address_hitlist_it82w-20180904.fsdb.gz\"\n",
    "dataset = dataset_path+dataset_file\n",
    "\n",
    "df_hitlist = pd.read_csv(dataset, sep=\"\\s+\", index_col=False, dtype=\"object\", comment='#')\n",
    "# get only the network field\n",
    "df_hitlist = df_hitlist[df_hitlist.columns[1:3]]\n",
    "df_hitlist.rename(columns = {list(df_hitlist)[0]:'rate',\n",
    "                             list(df_hitlist)[1]: 'network',\n",
    "                            }, inplace=True)\n",
    "df_hitlist['rate'] = df_hitlist['rate'].astype(float)\n",
    "    # df_hitlist = df_hitlist.iloc[:1,2].to_frame()\n",
    "df_hitlist.drop_duplicates(subset=['network'], keep=\"first\",inplace=True)"
   ]
  },
  {
   "cell_type": "code",
   "execution_count": 5,
   "metadata": {},
   "outputs": [
    {
     "data": {
      "text/html": [
       "<div>\n",
       "<style scoped>\n",
       "    .dataframe tbody tr th:only-of-type {\n",
       "        vertical-align: middle;\n",
       "    }\n",
       "\n",
       "    .dataframe tbody tr th {\n",
       "        vertical-align: top;\n",
       "    }\n",
       "\n",
       "    .dataframe thead th {\n",
       "        text-align: right;\n",
       "    }\n",
       "</style>\n",
       "<table border=\"1\" class=\"dataframe\">\n",
       "  <thead>\n",
       "    <tr style=\"text-align: right;\">\n",
       "      <th></th>\n",
       "      <th>rate</th>\n",
       "      <th>network</th>\n",
       "    </tr>\n",
       "  </thead>\n",
       "  <tbody>\n",
       "    <tr>\n",
       "      <th>0</th>\n",
       "      <td>-2.0</td>\n",
       "      <td>1.0.1.1</td>\n",
       "    </tr>\n",
       "    <tr>\n",
       "      <th>1</th>\n",
       "      <td>-2.0</td>\n",
       "      <td>1.0.2.1</td>\n",
       "    </tr>\n",
       "    <tr>\n",
       "      <th>2</th>\n",
       "      <td>-2.0</td>\n",
       "      <td>1.0.3.1</td>\n",
       "    </tr>\n",
       "    <tr>\n",
       "      <th>3</th>\n",
       "      <td>99.0</td>\n",
       "      <td>1.0.4.17</td>\n",
       "    </tr>\n",
       "    <tr>\n",
       "      <th>4</th>\n",
       "      <td>99.0</td>\n",
       "      <td>1.0.5.5</td>\n",
       "    </tr>\n",
       "  </tbody>\n",
       "</table>\n",
       "</div>"
      ],
      "text/plain": [
       "   rate   network\n",
       "0  -2.0   1.0.1.1\n",
       "1  -2.0   1.0.2.1\n",
       "2  -2.0   1.0.3.1\n",
       "3  99.0  1.0.4.17\n",
       "4  99.0   1.0.5.5"
      ]
     },
     "execution_count": 5,
     "metadata": {},
     "output_type": "execute_result"
    }
   ],
   "source": [
    "df_hitlist.head()"
   ]
  },
  {
   "cell_type": "code",
   "execution_count": 6,
   "metadata": {},
   "outputs": [
    {
     "data": {
      "text/plain": [
       "6140140"
      ]
     },
     "execution_count": 6,
     "metadata": {},
     "output_type": "execute_result"
    }
   ],
   "source": [
    "df_hitlist_verf = df_hitlist[df_hitlist['rate']>0]\n",
    "len(df_hitlist_verf)"
   ]
  },
  {
   "cell_type": "code",
   "execution_count": null,
   "metadata": {},
   "outputs": [],
   "source": []
  },
  {
   "cell_type": "code",
   "execution_count": 7,
   "metadata": {},
   "outputs": [
    {
     "data": {
      "text/plain": [
       "14478333"
      ]
     },
     "execution_count": 7,
     "metadata": {},
     "output_type": "execute_result"
    }
   ],
   "source": [
    "len(df_hitlist)"
   ]
  },
  {
   "cell_type": "markdown",
   "metadata": {},
   "source": [
    "# 2. read verfploeter"
   ]
  },
  {
   "cell_type": "code",
   "execution_count": 8,
   "metadata": {},
   "outputs": [
    {
     "name": "stdout",
     "output_type": "stream",
     "text": [
      "/Users/joaoceron/work/SAND/viz/data/verfploeter_all-nodes_2019-02-07_11-50.csv.gz\n"
     ]
    }
   ],
   "source": [
    "# dataset dir\n",
    "dataset_file = \"verfploeter_all-nodes_2019-02-07_11-50.csv.gz\"\n",
    "dataset = dataset_path+dataset_file\n",
    "print (dataset)"
   ]
  },
  {
   "cell_type": "code",
   "execution_count": 9,
   "metadata": {},
   "outputs": [],
   "source": [
    "df = pd.read_csv(dataset, sep=\",\", index_col=False)\n",
    "df.drop(['destination_address','receive_time','transmit_time', 'source_address_country',\n",
    "         'meta_source_address','meta_destination_address'], axis=1, inplace=True)\n",
    "df = df['source_address'].to_frame()\n",
    "df.columns = ['network']"
   ]
  },
  {
   "cell_type": "code",
   "execution_count": 10,
   "metadata": {},
   "outputs": [],
   "source": [
    "df['network'] =  df.network.str.extract('(\\d{1,3}\\.\\d{1,3}\\.\\d{1,3}\\.)\\d{1,3}',\n",
    "                      expand=True).add('0')\n",
    "df.drop_duplicates(subset=['network'], keep=\"first\",inplace=True)"
   ]
  },
  {
   "cell_type": "code",
   "execution_count": 11,
   "metadata": {},
   "outputs": [
    {
     "data": {
      "text/html": [
       "<div>\n",
       "<style scoped>\n",
       "    .dataframe tbody tr th:only-of-type {\n",
       "        vertical-align: middle;\n",
       "    }\n",
       "\n",
       "    .dataframe tbody tr th {\n",
       "        vertical-align: top;\n",
       "    }\n",
       "\n",
       "    .dataframe thead th {\n",
       "        text-align: right;\n",
       "    }\n",
       "</style>\n",
       "<table border=\"1\" class=\"dataframe\">\n",
       "  <thead>\n",
       "    <tr style=\"text-align: right;\">\n",
       "      <th></th>\n",
       "      <th>network</th>\n",
       "    </tr>\n",
       "  </thead>\n",
       "  <tbody>\n",
       "    <tr>\n",
       "      <th>0</th>\n",
       "      <td>212.27.52.0</td>\n",
       "    </tr>\n",
       "    <tr>\n",
       "      <th>1</th>\n",
       "      <td>64.124.16.0</td>\n",
       "    </tr>\n",
       "    <tr>\n",
       "      <th>2</th>\n",
       "      <td>128.240.249.0</td>\n",
       "    </tr>\n",
       "    <tr>\n",
       "      <th>3</th>\n",
       "      <td>78.229.117.0</td>\n",
       "    </tr>\n",
       "    <tr>\n",
       "      <th>4</th>\n",
       "      <td>137.226.84.0</td>\n",
       "    </tr>\n",
       "  </tbody>\n",
       "</table>\n",
       "</div>"
      ],
      "text/plain": [
       "         network\n",
       "0    212.27.52.0\n",
       "1    64.124.16.0\n",
       "2  128.240.249.0\n",
       "3   78.229.117.0\n",
       "4   137.226.84.0"
      ]
     },
     "execution_count": 11,
     "metadata": {},
     "output_type": "execute_result"
    }
   ],
   "source": [
    "df.head()"
   ]
  },
  {
   "cell_type": "code",
   "execution_count": 12,
   "metadata": {},
   "outputs": [
    {
     "name": "stdout",
     "output_type": "stream",
     "text": [
      "3439579\n"
     ]
    }
   ],
   "source": [
    "df.head()\n",
    "print (len(df))"
   ]
  },
  {
   "cell_type": "code",
   "execution_count": 96,
   "metadata": {},
   "outputs": [],
   "source": [
    "data = { 'answer'     : len(df),\n",
    "         'no_answer'  : len(df_hitlist) - len(df) ,\n",
    "}\n",
    "s = pd.Series(data)\n",
    "data = pd.DataFrame({'type':s.index, 'hits':s.values},index=s.index)"
   ]
  },
  {
   "cell_type": "code",
   "execution_count": 97,
   "metadata": {},
   "outputs": [
    {
     "data": {
      "text/html": [
       "<div>\n",
       "<style scoped>\n",
       "    .dataframe tbody tr th:only-of-type {\n",
       "        vertical-align: middle;\n",
       "    }\n",
       "\n",
       "    .dataframe tbody tr th {\n",
       "        vertical-align: top;\n",
       "    }\n",
       "\n",
       "    .dataframe thead th {\n",
       "        text-align: right;\n",
       "    }\n",
       "</style>\n",
       "<table border=\"1\" class=\"dataframe\">\n",
       "  <thead>\n",
       "    <tr style=\"text-align: right;\">\n",
       "      <th></th>\n",
       "      <th>type</th>\n",
       "      <th>hits</th>\n",
       "    </tr>\n",
       "  </thead>\n",
       "  <tbody>\n",
       "    <tr>\n",
       "      <th>answer</th>\n",
       "      <td>answer</td>\n",
       "      <td>3439579</td>\n",
       "    </tr>\n",
       "    <tr>\n",
       "      <th>no_answer</th>\n",
       "      <td>no_answer</td>\n",
       "      <td>11038754</td>\n",
       "    </tr>\n",
       "  </tbody>\n",
       "</table>\n",
       "</div>"
      ],
      "text/plain": [
       "                type      hits\n",
       "answer        answer   3439579\n",
       "no_answer  no_answer  11038754"
      ]
     },
     "execution_count": 97,
     "metadata": {},
     "output_type": "execute_result"
    }
   ],
   "source": [
    "data"
   ]
  },
  {
   "cell_type": "code",
   "execution_count": 106,
   "metadata": {},
   "outputs": [
    {
     "name": "stderr",
     "output_type": "stream",
     "text": [
      "/Users/joaoceron/anaconda3/lib/python3.6/site-packages/matplotlib/figure.py:459: UserWarning: matplotlib is currently using a non-GUI backend, so cannot show the figure\n",
      "  \"matplotlib is currently using a non-GUI backend, \"\n"
     ]
    },
    {
     "data": {
      "image/png": "[encoded data removed]",
      "text/plain": [
       "<Figure size 324x288 with 1 Axes>"
      ]
     },
     "metadata": {},
     "output_type": "display_data"
    }
   ],
   "source": [
    "%matplotlib inline\n",
    "import matplotlib.pyplot as plt\n",
    "\n",
    "plt.style.use('ggplot')\n",
    "fig = plt.figure(figsize=(4.5, 4))\n",
    "ax = plt.subplot2grid((1,1), (0,0))\n",
    " \n",
    "# colors = ['#4f9da6','#facf5a', '#f4f141' ]\n",
    "\n",
    "def make_autopct(values):\n",
    "    def my_autopct(pct):\n",
    "        total = sum(values)\n",
    "        val = int(round(pct*total/100.0))\n",
    "        if pct < 12:\n",
    "            return '{p:.1f}%'.format(p=pct)\n",
    "        else:\n",
    "            return '{p:.1f}%\\n({v:d})'.format(p=pct,v=val)\n",
    "    return my_autopct\n",
    "\n",
    "data.plot(ax=ax,\n",
    "          kind='pie',\n",
    "          y = 'hits',\n",
    "          fontsize=18,\n",
    "          autopct=make_autopct(data['hits']), \n",
    "          startangle=6, \n",
    "          pctdistance=0.80,\n",
    "          title=\"ICMP replies distribution [all /24 networks]\",\n",
    "#           colors = colors,\n",
    "          labels=None)\n",
    "\n",
    "labels=data.index\n",
    "ax.legend(labels, loc='upper center', bbox_to_anchor=(1,0.95))\n",
    "\n",
    "centre_circle = plt.Circle((0,0),0.60,fc='white')\n",
    "fig = plt.gcf()\n",
    "fig.gca().add_artist(centre_circle)\n",
    "ax.set_ylabel('')\n",
    "\n",
    "\n",
    "fig.savefig(\"distribution_total.eps\", bbox_inches='tight',format='eps', dpi=1200)\n",
    "\n",
    "fig.tight_layout()\n",
    "fig.show()"
   ]
  },
  {
   "cell_type": "markdown",
   "metadata": {},
   "source": [
    "# Considere only IPs used by vp"
   ]
  },
  {
   "cell_type": "code",
   "execution_count": 115,
   "metadata": {},
   "outputs": [
    {
     "name": "stdout",
     "output_type": "stream",
     "text": [
      "                type     hits\n",
      "answer        answer  3439579\n",
      "no_answer  no_answer  2700561\n"
     ]
    }
   ],
   "source": [
    "data = { \n",
    "         'answer' : len(df),\n",
    "         'no_answer'  : len(df_hitlist_verf) - len(df) ,\n",
    "}\n",
    "\n",
    "s = pd.Series(data)\n",
    "data = pd.DataFrame({'type':s.index, 'hits':s.values},index=s.index)\n",
    "# data= data.drop('index',axis=1)\n",
    "# data['percent'] = data.transform(lambda x: (x/np.sum(x)*100))\n",
    "\n",
    "total = max(data['hits'])\n",
    "print (data)\n",
    "# data['percent'] = data['']\n",
    "# data.dtypes\n",
    "# data.transform(lambda x: (x/np.sum(x)*100))\n",
    "# data.transform(lambda x: (np.sum(x)))"
   ]
  },
  {
   "cell_type": "code",
   "execution_count": 121,
   "metadata": {},
   "outputs": [
    {
     "name": "stderr",
     "output_type": "stream",
     "text": [
      "/Users/joaoceron/anaconda3/lib/python3.6/site-packages/matplotlib/figure.py:459: UserWarning: matplotlib is currently using a non-GUI backend, so cannot show the figure\n",
      "  \"matplotlib is currently using a non-GUI backend, \"\n"
     ]
    },
    {
     "data": {
      "image/png": "[encoded data removed]",
      "text/plain": [
       "<Figure size 432x288 with 1 Axes>"
      ]
     },
     "metadata": {},
     "output_type": "display_data"
    }
   ],
   "source": [
    "plt.style.use('ggplot')\n",
    "fig = plt.figure(figsize=(6, 4))\n",
    "ax = plt.subplot2grid((1,1), (0,0))\n",
    "\n",
    "colors = ['#4f9da6','#facf5a', '#f4f141' ]\n",
    "\n",
    "# total = data.loc['hitlist_vp','hits']\n",
    "\n",
    "def make_autopct(values):\n",
    "    def my_autopct(pct):\n",
    "        total = sum(values)\n",
    "        val = int(round(pct*total/100.0))\n",
    "        if pct < 12:\n",
    "            return '{p:.1f}%'.format(p=pct)\n",
    "        else:\n",
    "            return '{p:.1f}%\\n({v:d})'.format(p=pct,v=val)\n",
    "    return my_autopct\n",
    "\n",
    "data.plot(ax=ax,\n",
    "          kind='pie',\n",
    "          y = 'hits',\n",
    "          fontsize=18,\n",
    "          autopct=make_autopct(data['hits']), \n",
    "          startangle=6, \n",
    "          pctdistance=0.80,\n",
    "          colors = colors,\n",
    "          title=\"ICMP replies distribution [/24 networks used by vp (score >0)]\",\n",
    "          labels=None)\n",
    "\n",
    "labels=data.index\n",
    "ax.legend(labels, loc='upper center', bbox_to_anchor=(1,0.95))\n",
    "\n",
    "centre_circle = plt.Circle((0,0),0.60,fc='white')\n",
    "fig = plt.gcf()\n",
    "fig.gca().add_artist(centre_circle)\n",
    "\n",
    "ax.set_ylabel('')\n",
    "\n",
    "\n",
    "fig.savefig(\"distribution_vp.eps\", bbox_inches='tight',format='eps', dpi=1200)\n",
    "\n",
    "fig.tight_layout()\n",
    "fig.show()"
   ]
  },
  {
   "cell_type": "code",
   "execution_count": null,
   "metadata": {},
   "outputs": [],
   "source": []
  },
  {
   "cell_type": "code",
   "execution_count": null,
   "metadata": {},
   "outputs": [],
   "source": []
  }
 ],
 "metadata": {
  "kernelspec": {
   "display_name": "Python 3",
   "language": "python",
   "name": "python3"
  },
  "language_info": {
   "codemirror_mode": {
    "name": "ipython",
    "version": 3
   },
   "file_extension": ".py",
   "mimetype": "text/x-python",
   "name": "python",
   "nbconvert_exporter": "python",
   "pygments_lexer": "ipython3",
   "version": "3.6.8"
  }
 },
 "nbformat": 4,
 "nbformat_minor": 2
}
